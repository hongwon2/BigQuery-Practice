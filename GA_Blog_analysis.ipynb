{
  "nbformat": 4,
  "nbformat_minor": 0,
  "metadata": {
    "colab": {
      "provenance": [],
      "collapsed_sections": [
        "Xw8CJQfiY0jl",
        "uBIi9d2cZC6z",
        "cX8xFOhiZ6nj"
      ],
      "authorship_tag": "ABX9TyPhUuePA/ofYfhSrdFdCB1D",
      "include_colab_link": true
    },
    "kernelspec": {
      "name": "python3",
      "display_name": "Python 3"
    },
    "language_info": {
      "name": "python"
    }
  },
  "cells": [
    {
      "cell_type": "markdown",
      "metadata": {
        "id": "view-in-github",
        "colab_type": "text"
      },
      "source": [
        "<a href=\"https://colab.research.google.com/github/hongwon2/BigQuery-Practice/blob/main/GA_Blog_analysis.ipynb\" target=\"_parent\"><img src=\"https://colab.research.google.com/assets/colab-badge.svg\" alt=\"Open In Colab\"/></a>"
      ]
    },
    {
      "cell_type": "markdown",
      "source": [
        "#날짜별 사용자 수 대비 첫 사용자 비율"
      ],
      "metadata": {
        "id": "Xw8CJQfiY0jl"
      }
    },
    {
      "cell_type": "code",
      "execution_count": null,
      "metadata": {
        "id": "C6Sws3ZfYTEc"
      },
      "outputs": [],
      "source": [
        "select \n",
        "\tevent_date,\n",
        "    \tcount(distinct user_pseudo_id) as user_cnt,\n",
        "    \tcount(case when event_name = 'first_visit' then user_pseudo_id else null end) as new_user_cnt,\n",
        "    \tconcat(round(100.0 * count(case when event_name = 'first_visit' then user_pseudo_id else null end)/count(distinct user_pseudo_id),0),\"%\") as new_user_percent\n",
        "from `analytics_310464334.events_*`\n",
        "where _TABLE_SUFFIX between '20221009'and'20221013'\n",
        "group by event_date\n",
        "order by event_date;"
      ]
    },
    {
      "cell_type": "markdown",
      "source": [
        "# 최다 조회 사용자의 특성은?"
      ],
      "metadata": {
        "id": "uBIi9d2cZC6z"
      }
    },
    {
      "cell_type": "markdown",
      "source": [
        "## 최다 조회자는?"
      ],
      "metadata": {
        "id": "doAdxmJ9ZOd-"
      }
    },
    {
      "cell_type": "code",
      "source": [
        "with user_visit_count as (\n",
        "select \n",
        "\tuser_pseudo_id,\n",
        "  \tcount(case when event_name = 'session_start' then 1 else null end) as visit_cnt\n",
        "from `analytics_310464334.events_*`\n",
        "where _TABLE_SUFFIX between '20221009'and'20221013'\n",
        "group by user_pseudo_id\n",
        "order by visit_cnt desc\n",
        ")\n",
        "select *\n",
        "from user_visit_count"
      ],
      "metadata": {
        "id": "-CYT0QAqZIAu"
      },
      "execution_count": null,
      "outputs": []
    },
    {
      "cell_type": "markdown",
      "source": [
        "## 본 페이지 추적"
      ],
      "metadata": {
        "id": "iQSlNzuaZSXP"
      }
    },
    {
      "cell_type": "code",
      "source": [
        "with user_visit_count as (\n",
        "select user_pseudo_id,\n",
        "  count(case when event_name = 'session_start' then 1 else null end) as visit_cnt\n",
        "from `analytics_310464334.events_*`\n",
        "where _TABLE_SUFFIX between '20221009'and'20221013'\n",
        "group by user_pseudo_id\n",
        "order by visit_cnt desc\n",
        ")\n",
        "select \n",
        "  a.user_pseudo_id,a.visit_cnt,\n",
        "  b.event_date,\n",
        "  timestamp_seconds(cast(cast(b.event_timestamp as INT64)/1000000 as INT64)) + interval '9' hour as event_time_stamp,\n",
        "  b.event_name,\n",
        "  b.event_params\n",
        "from user_visit_count as a left join `analytics_310464334.events_*` as b\n",
        "on a.user_pseudo_id = b.user_pseudo_id \n",
        "where a.user_pseudo_id = '2053913881.1650861985' and event_name = 'session_start'"
      ],
      "metadata": {
        "id": "GTXXYqdcZXEV"
      },
      "execution_count": null,
      "outputs": []
    },
    {
      "cell_type": "markdown",
      "source": [
        "## 본 페이지 추적 (unnest)"
      ],
      "metadata": {
        "id": "iGRS3L63Zab_"
      }
    },
    {
      "cell_type": "code",
      "source": [
        "with user_visit_count as (\n",
        "  select user_pseudo_id,\n",
        "    count(case when event_name = 'session_start' then 1 else null end) as visit_cnt\n",
        "  from `analytics_310464334.events_*`\n",
        "  where _TABLE_SUFFIX between '20221009'and'20221013'\n",
        "  group by user_pseudo_id\n",
        "  order by visit_cnt desc\n",
        "),\n",
        "unnest_data as (\n",
        "  select user_pseudo_id,event_date,event_timestamp,event_name,event_params.key,event_params.value\n",
        "  from `analytics_310464334.events_*`,UNNEST(event_params) AS event_params\n",
        "  where user_pseudo_id = '2053913881.1650861985' and event_name = 'session_start' and key = 'page_title' \n",
        ")\n",
        "select \n",
        "  a.user_pseudo_id,a.visit_cnt,\n",
        "  b.event_date,\n",
        "  timestamp_seconds(cast(cast(b.event_timestamp as INT64)/1000000 as INT64)) + interval '9' hour as event_time_stamp,\n",
        "  b.event_name,\n",
        "  b.key,\n",
        "  b.value.string_value\n",
        "from user_visit_count as a left join unnest_data as b\n",
        "on a.user_pseudo_id = b.user_pseudo_id\n",
        "where a.user_pseudo_id = '2053913881.1650861985' and event_name = 'session_start'\n",
        "order by event_date"
      ],
      "metadata": {
        "id": "wzisErfRZj8u"
      },
      "execution_count": null,
      "outputs": []
    },
    {
      "cell_type": "markdown",
      "source": [
        "## 유저 특성"
      ],
      "metadata": {
        "id": "twPpFi_0Zk07"
      }
    },
    {
      "cell_type": "code",
      "source": [
        "select user_pseudo_id,device.category,\tdevice.mobile_brand_name,device.mobile_model_name, device.operating_system,device.operating_system_version,device.language,device.web_info.browser,geo.country\n",
        "from `analytics_310464334.events_*` \n",
        "where user_pseudo_id = '2053913881.1650861985'\n",
        "limit 1"
      ],
      "metadata": {
        "id": "Cp5SwRgPZsHl"
      },
      "execution_count": null,
      "outputs": []
    },
    {
      "cell_type": "markdown",
      "source": [
        "# 외국에서 접속한 사용자가 본 페이지는?"
      ],
      "metadata": {
        "id": "DZPnMssBZvVe"
      }
    },
    {
      "cell_type": "markdown",
      "source": [
        "# 페이지, 페이지 리퍼러 조회"
      ],
      "metadata": {
        "id": "cX8xFOhiZ6nj"
      }
    },
    {
      "cell_type": "code",
      "source": [
        "select \n",
        "  user_pseudo_id,\n",
        "  geo.country,\n",
        "  geo.region,\n",
        "  device.language,\n",
        "  event_name,\n",
        "  event_params.value.string_value\n",
        "from `analytics_310464334.events_*`,UNNEST(event_params) AS event_params\n",
        "where event_name ='page_view' and key in ('page_title','page_referrer') and geo.country not in ('South Korea')"
      ],
      "metadata": {
        "id": "lbyaSsDAZytN"
      },
      "execution_count": null,
      "outputs": []
    },
    {
      "cell_type": "markdown",
      "source": [
        "## daum 접속자"
      ],
      "metadata": {
        "id": "3UOxv6ENaPas"
      }
    },
    {
      "cell_type": "code",
      "source": [
        "select \n",
        "  user_pseudo_id,\n",
        "  geo.country,\n",
        "  device.language,\n",
        "  event_params.key,\n",
        "  event_params.value.string_value\n",
        "from `analytics_310464334.events_*`,UNNEST(event_params) AS event_params\n",
        "where event_name ='page_view' and key ='page_referrer' and value.string_value like '%daum%'\n",
        "order by event_timestamp"
      ],
      "metadata": {
        "id": "YsgsJISSaY52"
      },
      "execution_count": null,
      "outputs": []
    },
    {
      "cell_type": "markdown",
      "source": [],
      "metadata": {
        "id": "dS9xnbCWZ5mb"
      }
    }
  ]
}