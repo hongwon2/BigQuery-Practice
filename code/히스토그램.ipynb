{
  "nbformat": 4,
  "nbformat_minor": 0,
  "metadata": {
    "colab": {
      "name": "히스토그램.ipynb",
      "provenance": [],
      "collapsed_sections": [],
      "authorship_tag": "ABX9TyMYQlhlrr9NPKhdeuywJbAi",
      "include_colab_link": true
    },
    "kernelspec": {
      "name": "python3",
      "display_name": "Python 3"
    },
    "language_info": {
      "name": "python"
    }
  },
  "cells": [
    {
      "cell_type": "markdown",
      "metadata": {
        "id": "view-in-github",
        "colab_type": "text"
      },
      "source": [
        "<a href=\"https://colab.research.google.com/github/hongwon2/BigQuery-Practice/blob/main/%ED%9E%88%EC%8A%A4%ED%86%A0%EA%B7%B8%EB%9E%A8.ipynb\" target=\"_parent\"><img src=\"https://colab.research.google.com/assets/colab-badge.svg\" alt=\"Open In Colab\"/></a>"
      ]
    },
    {
      "cell_type": "code",
      "execution_count": 1,
      "metadata": {
        "id": "khblAGZggcJx"
      },
      "outputs": [],
      "source": [
        "from google.colab import auth\n",
        "auth.authenticate_user()"
      ]
    },
    {
      "cell_type": "code",
      "source": [
        "%load_ext google.colab.data_table"
      ],
      "metadata": {
        "id": "NiZvWGYyh_en"
      },
      "execution_count": 2,
      "outputs": []
    },
    {
      "cell_type": "markdown",
      "source": [
        "#가격대 별로 나눈 히스토그램"
      ],
      "metadata": {
        "id": "5a39V1AolRV6"
      }
    },
    {
      "cell_type": "code",
      "source": [
        "%%bigquery --project ringed-marker-347607 dt\n",
        "WITH\n",
        "stats AS (\n",
        "    SELECT\n",
        "    -- 금액의 최댓값 + 1\n",
        "    MAX(price) + 1 AS max_price\n",
        "    -- 금액의 최솟값\n",
        "    , MIN(price) AS min_price\n",
        "    -- 금액의 범위 + 1(실수)\n",
        "    , MAX(price) + 1 - MIN(price) AS range_price\n",
        "    -- 계층 수\n",
        "    , 10 AS bucket_num\n",
        "  FROM\n",
        "    ch4.purchase_detail_log\n",
        ")\n",
        ", purchase_log_with_bucket AS (\n",
        "  SELECT\n",
        "    price\n",
        "    , min_price\n",
        "    -- 정규화 금액: 대상 금액 - 최소 금액\n",
        "    , price - min_price AS diff\n",
        "    -- 계층 범위 : 금액 범위를 계층 수로 분할\n",
        "    , 1.0 * range_price / bucket_num AS bucket_range\n",
        "\n",
        "    -- 계층 판정 : FLOOR(정규화 금액 / 계층 범위)\n",
        "    , FLOOR(\n",
        "        1.0 * (price - min_price) / (1.0 * range_price / bucket_num)\n",
        "        -- index가 1부터 시작하므로, 1을 더함\n",
        "    ) + 1 AS bucket\n",
        "\n",
        "  FROM\n",
        "    ch4.purchase_detail_log, stats\n",
        ")\n",
        "SELECT\n",
        "  bucket\n",
        "  -- 계층의 하한과 상한 계산\n",
        "  , min_price + bucket_range * (bucket - 1) AS lower_limit\n",
        "  , min_price + bucket_range * bucket AS upper_limit\n",
        "  -- 도수 세기\n",
        "  , COUNT(price) AS num_purchase\n",
        "  -- 합계 금액 계산\n",
        "  , SUM(price) AS total_amount\n",
        "FROM\n",
        "  purchase_log_with_bucket\n",
        "GROUP BY\n",
        "  bucket, min_price, bucket_range\n",
        "ORDER BY bucket\n",
        ";"
      ],
      "metadata": {
        "id": "6TvrbhzrihKJ"
      },
      "execution_count": 3,
      "outputs": []
    },
    {
      "cell_type": "markdown",
      "source": [
        "# 임의의 가격대로 나눈 히스토그램"
      ],
      "metadata": {
        "id": "3WMnrZcilYSu"
      }
    },
    {
      "cell_type": "code",
      "source": [
        "%%bigquery --project ringed-marker-347607 dt2\n",
        "WITH\n",
        "stats AS (\n",
        "    SELECT\n",
        "    -- 금액의 최대값\n",
        "    50000 AS max_price\n",
        "    -- 금액의 최솟값\n",
        "    , 0 AS min_price\n",
        "    -- 금액의 범위\n",
        "    , 50000 AS range_price\n",
        "    -- 계층 수\n",
        "    , 10 AS bucket_num\n",
        "  FROM\n",
        "    ch4.purchase_detail_log\n",
        ")\n",
        ", purchase_log_with_bucket AS (\n",
        "  SELECT\n",
        "    price\n",
        "    , min_price\n",
        "    -- 정규화 금액: 대상 금액 - 최소 금액\n",
        "    , price - min_price AS diff\n",
        "    -- 계층 범위 : 금액 범위를 계층 수로 분할 ----->간격이 5000단위로 깔끔함\n",
        "    , 1.0 * range_price / bucket_num AS bucket_range\n",
        "\n",
        "    -- 계층 판정 : FLOOR(정규화 금액 / 계층 범위)\n",
        "    , FLOOR(\n",
        "        1.0 * (price - min_price) / (1.0 * range_price / bucket_num)\n",
        "        -- index가 1부터 시작하므로, 1을 더함\n",
        "    ) + 1 AS bucket\n",
        "\n",
        "  FROM\n",
        "    ch4.purchase_detail_log, stats\n",
        ")\n",
        "SELECT\n",
        "  bucket\n",
        "  -- 계층의 하한과 상한 계산\n",
        "  , min_price + bucket_range * (bucket - 1) AS lower_limit\n",
        "  , min_price + bucket_range * bucket AS upper_limit\n",
        "  -- 도수 세기\n",
        "  , COUNT(price) AS num_purchase\n",
        "  -- 합계 금액 계산\n",
        "  , SUM(price) AS total_amount\n",
        "FROM\n",
        "  purchase_log_with_bucket\n",
        "GROUP BY\n",
        "  bucket, min_price, bucket_range\n",
        "ORDER BY bucket\n",
        ";"
      ],
      "metadata": {
        "id": "61km7-v_lXsN"
      },
      "execution_count": 4,
      "outputs": []
    },
    {
      "cell_type": "code",
      "source": [
        ""
      ],
      "metadata": {
        "id": "ONaeqX9flw7c"
      },
      "execution_count": null,
      "outputs": []
    }
  ]
}
